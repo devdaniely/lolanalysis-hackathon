{
 "cells": [
  {
   "cell_type": "code",
   "execution_count": 1,
   "id": "b77b0f59-f443-4b41-bc4f-d04892824f33",
   "metadata": {},
   "outputs": [
    {
     "ename": "ModuleNotFoundError",
     "evalue": "No module named 'skspatial'",
     "output_type": "error",
     "traceback": [
      "\u001b[1;31m---------------------------------------------------------------------------\u001b[0m",
      "\u001b[1;31mModuleNotFoundError\u001b[0m                       Traceback (most recent call last)",
      "Cell \u001b[1;32mIn[1], line 5\u001b[0m\n\u001b[0;32m      3\u001b[0m \u001b[38;5;28;01mfrom\u001b[39;00m \u001b[38;5;21;01mIPython\u001b[39;00m\u001b[38;5;21;01m.\u001b[39;00m\u001b[38;5;21;01mdisplay\u001b[39;00m \u001b[38;5;28;01mimport\u001b[39;00m display\n\u001b[0;32m      4\u001b[0m \u001b[38;5;28;01mfrom\u001b[39;00m \u001b[38;5;21;01mIPython\u001b[39;00m\u001b[38;5;21;01m.\u001b[39;00m\u001b[38;5;21;01mdisplay\u001b[39;00m \u001b[38;5;28;01mimport\u001b[39;00m HTML\n\u001b[1;32m----> 5\u001b[0m \u001b[38;5;28;01mfrom\u001b[39;00m \u001b[38;5;21;01mskspatial\u001b[39;00m\u001b[38;5;21;01m.\u001b[39;00m\u001b[38;5;21;01mmeasurement\u001b[39;00m \u001b[38;5;28;01mimport\u001b[39;00m area_signed\n\u001b[0;32m      6\u001b[0m \u001b[38;5;28;01mimport\u001b[39;00m \u001b[38;5;21;01mitertools\u001b[39;00m\n\u001b[0;32m      8\u001b[0m \u001b[38;5;66;03m# Set display options\u001b[39;00m\n",
      "\u001b[1;31mModuleNotFoundError\u001b[0m: No module named 'skspatial'"
     ]
    }
   ],
   "source": [
    "import pandas as pd\n",
    "import numpy as np\n",
    "from IPython.display import display\n",
    "from IPython.display import HTML\n",
    "#from skspatial.measurement import area_signed\n",
    "import itertools\n",
    "\n",
    "# Set display options\n",
    "pd.options.display.max_columns=None"
   ]
  },
  {
   "cell_type": "markdown",
   "id": "ac690003-80f1-4fb3-8f8e-c0c47a661b0e",
   "metadata": {},
   "source": [
    "# Test on 1 game\n",
    "- The entire map size is 16,000 x 16,000, center at (8000, 8000)"
   ]
  },
  {
   "cell_type": "code",
   "execution_count": 4,
   "id": "99fc11a2-29a1-4da7-9384-9693dc105484",
   "metadata": {},
   "outputs": [],
   "source": [
    "# Read in 1 game\n",
    "filepath = \"./games/lck_spring_2023/\"\n",
    "filename = \"ESPORTSTMNT03_3098196.gz\"\n",
    "filegz = filepath + filename\n",
    "df = pd.read_json(filegz, compression=\"gzip\")"
   ]
  },
  {
   "cell_type": "code",
   "execution_count": 5,
   "id": "0118802e-0e72-4d32-9ae0-8559053fbac5",
   "metadata": {},
   "outputs": [],
   "source": [
    "# Split df into 5 min intervals\n",
    "df[\"eventTime\"] = pd.to_datetime(df[\"eventTime\"])\n",
    "# df_intervals is array of dataframes in 5min intervals\n",
    "df_intervals =  [g for n, g in df.groupby(pd.Grouper(key='eventTime',freq='5Min'))]"
   ]
  },
  {
   "cell_type": "code",
   "execution_count": 55,
   "id": "4fdfc472-98c1-420c-856b-bdbe2c61b892",
   "metadata": {},
   "outputs": [
    {
     "data": {
      "text/plain": [
       "{'lose': 100, 'win': 200}"
      ]
     },
     "execution_count": 55,
     "metadata": {},
     "output_type": "execute_result"
    }
   ],
   "source": [
    "def get_win_lose_team():\n",
    "    win_lose_dict = dict()\n",
    "    # Get the winning team from last row\n",
    "    win_team = int(df.iloc[[-1]].winningTeam.item())\n",
    "\n",
    "    if win_team == 200:\n",
    "        win_lose_dict[\"lose\"] = 100\n",
    "    else:\n",
    "        win_lose_dict[\"lose\"] = 200\n",
    "\n",
    "    win_lose_dict[\"win\"] = win_team\n",
    "    return win_lose_dict\n",
    "    \n",
    "get_win_lose_team()"
   ]
  },
  {
   "cell_type": "markdown",
   "id": "70afbd14-2b2a-45d5-ab23-05018c9365ff",
   "metadata": {},
   "source": [
    "## Getting player positions"
   ]
  },
  {
   "cell_type": "code",
   "execution_count": 7,
   "id": "e5d363f0-0e50-4382-ad56-aa14e4e75c96",
   "metadata": {},
   "outputs": [
    {
     "data": {
      "text/plain": [
       "[(4000, 602), (2139, 677), (642, 287), (396, 520), (3050, 656)]"
      ]
     },
     "execution_count": 7,
     "metadata": {},
     "output_type": "execute_result"
    }
   ],
   "source": [
    "# Test on 1 file\n",
    "part_df = df[\"participants\"].dropna().reset_index(drop=True)\n",
    "# NEED TO ITERATE OVER ALL ROWS\n",
    "part_df_row = part_df.iloc[1929]\n",
    "\n",
    "blue_players_filter = filter(lambda x: x[\"teamID\"] == 100, part_df_row)\n",
    "blue_players = list(blue_players_filter)\n",
    "blue_positions_map = map(lambda p: (p[\"position\"][\"x\"], p[\"position\"][\"z\"]), blue_players)\n",
    "blue_positions = list(blue_positions_map)\n",
    "blue_positions"
   ]
  },
  {
   "cell_type": "code",
   "execution_count": 47,
   "id": "d92916be-673a-4b79-a4ed-312622b17c8b",
   "metadata": {},
   "outputs": [],
   "source": [
    "# The entire map size is 16,000 x 16,000, center at (8000, 8000)"
   ]
  },
  {
   "cell_type": "code",
   "execution_count": 77,
   "id": "e07ad310-84ba-41ca-9c3b-6c1fa7f19560",
   "metadata": {},
   "outputs": [],
   "source": [
    "# AREA based on radius 1000\n",
    "PROXIMITY_AREA = 3141592.65359\n",
    "\n",
    "def calculate_area(point1, point2, point3):\n",
    "    x1, y1 = point1\n",
    "    x2, y2 = point2\n",
    "    x3, y3 = point3\n",
    "    area = 0.5 * (x1 * (y2 - y3) + x2 * (y3 - y1) + x3 * (y1 - y2))\n",
    "    return area\n",
    "\n",
    "# Get # of instances where team members were in close proximity\n",
    "def calculate_proximity(positions):    \n",
    "    # Generate all combinations of 3 points\n",
    "    combinations = itertools.combinations(positions, 3)\n",
    "    \n",
    "    triangle_count = 0\n",
    "    for combo in combinations:\n",
    "        p1, p2, p3 = combo\n",
    "        # Check if the points are not collinear (non-zero area)+\n",
    "        area = calculate_area(p1, p2, p3)\n",
    "        if area > 0 and area <= PROXIMITY_AREA:\n",
    "            triangle_count += 1\n",
    "        # print(f\"Points {p1}, {p2}, {p3}, Area = {area}\")\n",
    "\n",
    "    return triangle_count"
   ]
  },
  {
   "cell_type": "code",
   "execution_count": 78,
   "id": "8c217b84-bded-47ed-b8a4-392e65ecbfdc",
   "metadata": {},
   "outputs": [
    {
     "data": {
      "text/plain": [
       "4"
      ]
     },
     "execution_count": 78,
     "metadata": {},
     "output_type": "execute_result"
    }
   ],
   "source": [
    "calculate_proximity(blue_positions)"
   ]
  },
  {
   "cell_type": "markdown",
   "id": "78a5b1e6-b6b9-4402-81f8-3d24996cf30a",
   "metadata": {},
   "source": [
    "## Get proximity for each interval\n",
    "\n",
    "Proximity is the number of times team was in close proximity within the 5min interval"
   ]
  },
  {
   "cell_type": "code",
   "execution_count": 79,
   "id": "6919c85e-e776-401c-aeb1-435705e0cfda",
   "metadata": {},
   "outputs": [
    {
     "name": "stdout",
     "output_type": "stream",
     "text": [
      "576\n",
      "341\n",
      "634\n",
      "576\n",
      "819\n",
      "731\n",
      "730\n",
      "879\n",
      "879\n",
      "859\n",
      "1033\n",
      "1195\n",
      "1039\n",
      "830\n"
     ]
    },
    {
     "data": {
      "text/plain": [
       "[{'win': 576, 'lose': 341},\n",
       " {'win': 634, 'lose': 576},\n",
       " {'win': 819, 'lose': 731},\n",
       " {'win': 730, 'lose': 879},\n",
       " {'win': 879, 'lose': 859},\n",
       " {'win': 1033, 'lose': 1195},\n",
       " {'win': 1039, 'lose': 830}]"
      ]
     },
     "execution_count": 79,
     "metadata": {},
     "output_type": "execute_result"
    }
   ],
   "source": [
    "def get_team_proximities(part_df_row, team):\n",
    "    \n",
    "    team_players_filter = filter(lambda x: x[\"teamID\"] == team, part_df_row)\n",
    "    team_players = list(team_players_filter)\n",
    "\n",
    "    # Check if position data exists\n",
    "    if \"position\" not in team_players[0].keys():\n",
    "        return 0\n",
    "    \n",
    "    team_positions_map = map(lambda p: (p[\"position\"][\"x\"], p[\"position\"][\"z\"]), team_players)\n",
    "    team_positions = list(team_positions_map)\n",
    "    return calculate_proximity(team_positions)\n",
    "\n",
    "def get_proximities(interval):\n",
    "    team_prox = dict()\n",
    "    \n",
    "    team_dict = get_win_lose_team()\n",
    "    win_team = team_dict[\"win\"]\n",
    "    lose_team = team_dict[\"lose\"]\n",
    "\n",
    "    \n",
    "    part_df = interval[\"participants\"].dropna().reset_index(drop=True)\n",
    "    # NEED TO ITERATE OVER ALL ROWS\n",
    "\n",
    "    win_prox = part_df.apply(get_team_proximities, team=win_team)\n",
    "    lose_prox = part_df.apply(get_team_proximities, team=lose_team)\n",
    "    print(win_prox.sum())\n",
    "    print(lose_prox.sum())\n",
    "\n",
    "    team_prox[\"win\"] = win_prox.sum()\n",
    "    team_prox[\"lose\"] = lose_prox.sum()\n",
    "\n",
    "    return team_prox\n",
    "\n",
    "#get_proximities(df_intervals[0])\n",
    "#test = df_intervals[\"participants\"].apply(get_proximities)\n",
    "test = map(get_proximities, df_intervals)\n",
    "list(test)"
   ]
  },
  {
   "cell_type": "code",
   "execution_count": 37,
   "id": "9d7eeb1a-378b-4c1a-8c4a-488bb135ca0a",
   "metadata": {},
   "outputs": [
    {
     "data": {
      "text/plain": [
       "2832      NaN\n",
       "2833      NaN\n",
       "2834      NaN\n",
       "2835      NaN\n",
       "2836      NaN\n",
       "        ...  \n",
       "3338      NaN\n",
       "3339      NaN\n",
       "3340      NaN\n",
       "3341      NaN\n",
       "3342    200.0\n",
       "Name: winningTeam, Length: 511, dtype: float64"
      ]
     },
     "execution_count": 37,
     "metadata": {},
     "output_type": "execute_result"
    }
   ],
   "source": [
    "df_intervals[len(df_intervals) - 1].winningTeam"
   ]
  },
  {
   "cell_type": "code",
   "execution_count": null,
   "id": "5656c959-9800-4f57-87cd-8ad07b592eee",
   "metadata": {},
   "outputs": [],
   "source": []
  }
 ],
 "metadata": {
  "kernelspec": {
   "display_name": "Python 3 (ipykernel)",
   "language": "python",
   "name": "python3"
  },
  "language_info": {
   "codemirror_mode": {
    "name": "ipython",
    "version": 3
   },
   "file_extension": ".py",
   "mimetype": "text/x-python",
   "name": "python",
   "nbconvert_exporter": "python",
   "pygments_lexer": "ipython3",
   "version": "3.9.4"
  }
 },
 "nbformat": 4,
 "nbformat_minor": 5
}
