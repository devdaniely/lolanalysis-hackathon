{
 "cells": [
  {
   "cell_type": "code",
   "execution_count": 19,
   "id": "b77b0f59-f443-4b41-bc4f-d04892824f33",
   "metadata": {},
   "outputs": [],
   "source": [
    "import pandas as pd\n",
    "import numpy as np\n",
    "from IPython.display import display\n",
    "from IPython.display import HTML\n",
    "from skspatial.measurement import area_signed\n",
    "import itertools\n",
    "\n",
    "# Set display options\n",
    "pd.options.display.max_columns=None"
   ]
  },
  {
   "cell_type": "markdown",
   "id": "ac690003-80f1-4fb3-8f8e-c0c47a661b0e",
   "metadata": {},
   "source": [
    "# Test on 1 game\n",
    "- The entire map size is 16,000 x 16,000, center at (8000, 8000)"
   ]
  },
  {
   "cell_type": "code",
   "execution_count": 50,
   "id": "99fc11a2-29a1-4da7-9384-9693dc105484",
   "metadata": {},
   "outputs": [],
   "source": [
    "# Read in 1 game\n",
    "filepath = \"./games/lck_spring_2023/\"\n",
    "filename = \"ESPORTSTMNT03_3098196.gz\"\n",
    "filegz = filepath + filename\n",
    "df = pd.read_json(filegz, compression=\"gzip\")"
   ]
  },
  {
   "cell_type": "code",
   "execution_count": 61,
   "id": "0118802e-0e72-4d32-9ae0-8559053fbac5",
   "metadata": {},
   "outputs": [],
   "source": [
    "# Split df into 5 min intervals\n",
    "df[\"eventTime\"] = pd.to_datetime(df[\"eventTime\"])\n",
    "minutesplit =  [g for n, g in df.groupby(pd.Grouper(key='eventTime',freq='5Min'))]"
   ]
  },
  {
   "cell_type": "code",
   "execution_count": 64,
   "id": "4fdfc472-98c1-420c-856b-bdbe2c61b892",
   "metadata": {},
   "outputs": [
    {
     "data": {
      "text/plain": [
       "7"
      ]
     },
     "execution_count": 64,
     "metadata": {},
     "output_type": "execute_result"
    }
   ],
   "source": [
    "len(minutesplit)\n",
    "minutesplit["
   ]
  },
  {
   "cell_type": "markdown",
   "id": "70afbd14-2b2a-45d5-ab23-05018c9365ff",
   "metadata": {},
   "source": [
    "## Getting player positions"
   ]
  },
  {
   "cell_type": "code",
   "execution_count": 44,
   "id": "e5d363f0-0e50-4382-ad56-aa14e4e75c96",
   "metadata": {},
   "outputs": [
    {
     "data": {
      "text/plain": [
       "[(4000, 602), (2139, 677), (642, 287), (396, 520), (3050, 656)]"
      ]
     },
     "execution_count": 44,
     "metadata": {},
     "output_type": "execute_result"
    }
   ],
   "source": [
    "# Test on 1 file\n",
    "part_df = df[\"participants\"].dropna().reset_index(drop=True)\n",
    "# NEED TO ITERATE OVER ALL ROWS\n",
    "part_df_row = part_df.iloc[1929]\n",
    "\n",
    "blue_players_filter = filter(lambda x: x[\"teamID\"] == 100, part_df_row)\n",
    "blue_players = list(blue_players_filter)\n",
    "blue_positions_map = map(lambda p: (p[\"position\"][\"x\"], p[\"position\"][\"z\"]), blue_players)\n",
    "blue_positions = list(blue_positions_map)\n",
    "blue_positions"
   ]
  },
  {
   "cell_type": "code",
   "execution_count": 47,
   "id": "d92916be-673a-4b79-a4ed-312622b17c8b",
   "metadata": {},
   "outputs": [],
   "source": [
    "# The entire map size is 16,000 x 16,000, center at (8000, 8000)"
   ]
  },
  {
   "cell_type": "code",
   "execution_count": 46,
   "id": "e07ad310-84ba-41ca-9c3b-6c1fa7f19560",
   "metadata": {},
   "outputs": [
    {
     "name": "stdout",
     "output_type": "stream",
     "text": [
      "Triangle 1: Points (4000, 602), (2139, 677), (642, 287), Area = 419032.5\n",
      "Triangle 2: Points (4000, 602), (2139, 677), (396, 520), Area = 211451.0\n",
      "Triangle 3: Points (2139, 677), (642, 287), (3050, 656), Area = 193363.5\n",
      "Triangle 4: Points (2139, 677), (396, 520), (3050, 656), Area = 89815.0\n",
      "Total number of triangles: 4\n"
     ]
    }
   ],
   "source": [
    "def calculate_area(point1, point2, point3):\n",
    "    x1, y1 = point1\n",
    "    x2, y2 = point2\n",
    "    x3, y3 = point3\n",
    "    \n",
    "    area = 0.5 * (x1 * (y2 - y3) + x2 * (y3 - y1) + x3 * (y1 - y2))\n",
    "    return area\n",
    "\n",
    "# Define your set of points\n",
    "points = [(2,4), (3, -6), (7,8)]\n",
    "\n",
    "# Generate all combinations of 3 points\n",
    "combinations = itertools.combinations(blue_positions, 3)\n",
    "\n",
    "triangle_count = 0\n",
    "for combo in combinations:\n",
    "    p1, p2, p3 = combo\n",
    "    # Check if the points are not collinear (non-zero area)\n",
    "    if calculate_area(p1, p2, p3) > 0:\n",
    "        triangle_count += 1\n",
    "        area = calculate_area(p1, p2, p3)\n",
    "        print(f\"Triangle {triangle_count}: Points {p1}, {p2}, {p3}, Area = {area}\")\n",
    "\n",
    "print(f\"Total number of triangles: {triangle_count}\")"
   ]
  },
  {
   "cell_type": "code",
   "execution_count": null,
   "id": "8c217b84-bded-47ed-b8a4-392e65ecbfdc",
   "metadata": {},
   "outputs": [],
   "source": []
  }
 ],
 "metadata": {
  "kernelspec": {
   "display_name": "Python 3 (ipykernel)",
   "language": "python",
   "name": "python3"
  },
  "language_info": {
   "codemirror_mode": {
    "name": "ipython",
    "version": 3
   },
   "file_extension": ".py",
   "mimetype": "text/x-python",
   "name": "python",
   "nbconvert_exporter": "python",
   "pygments_lexer": "ipython3",
   "version": "3.9.13"
  }
 },
 "nbformat": 4,
 "nbformat_minor": 5
}
